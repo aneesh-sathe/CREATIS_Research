{
  "nbformat": 4,
  "nbformat_minor": 0,
  "metadata": {
    "colab": {
      "provenance": [],
      "gpuType": "T4"
    },
    "kernelspec": {
      "name": "python3",
      "display_name": "Python 3"
    },
    "language_info": {
      "name": "python"
    },
    "accelerator": "GPU"
  },
  "cells": [
    {
      "cell_type": "markdown",
      "source": [
        "## **Observations**\n",
        "\n",
        "\n",
        "\n",
        "\n",
        "\n",
        "\n",
        "\n",
        "\n",
        "* validation and test data need to created for evaluation of the model.\n",
        "\n",
        "* ```model.fit()``` raises this warning when run, is this normal? ```WARNING:tensorflow:Gradients do not exist for variables ['proj_coef/kernel_h^2/2m:0'] when minimizing the loss. If you're using `model.compile()`, did you forget to provide a `loss` argument?```\n",
        "\n",
        "* instead of saving all the model checkpoints, should only the models with losses smaller than the current minimum loss be saved by adding ```save_best_model = True``` to the ```model.compile()``` function?\n",
        "\n",
        "* ```model.fit()``` is throwing error ```ValueError: Unknown layer: 'Hamiltonian_ConvD'. Please ensure you are using a 'keras.utils.custom_object_scope' and that this object is included in the scope.``` when the training is restarted from checkpoint."
      ],
      "metadata": {
        "id": "MZ844JwqyAyj"
      }
    },
    {
      "cell_type": "code",
      "source": [
        "from google.colab import drive\n",
        "drive.mount('/content/my_drive')"
      ],
      "metadata": {
        "colab": {
          "base_uri": "https://localhost:8080/"
        },
        "id": "Sptg7D4U4iZP",
        "outputId": "0094c60e-ffea-4f35-f9c7-64e7b519dfc2"
      },
      "execution_count": 2,
      "outputs": [
        {
          "output_type": "stream",
          "name": "stdout",
          "text": [
            "Mounted at /content/my_drive\n"
          ]
        }
      ]
    },
    {
      "cell_type": "code",
      "source": [
        "!nvidia-smi"
      ],
      "metadata": {
        "colab": {
          "base_uri": "https://localhost:8080/"
        },
        "id": "1ZjWW9sht9qC",
        "outputId": "e6d43869-d2b7-4702-dc43-14753208c5dc"
      },
      "execution_count": 10,
      "outputs": [
        {
          "output_type": "stream",
          "name": "stdout",
          "text": [
            "Fri Mar 22 09:51:52 2024       \n",
            "+---------------------------------------------------------------------------------------+\n",
            "| NVIDIA-SMI 535.104.05             Driver Version: 535.104.05   CUDA Version: 12.2     |\n",
            "|-----------------------------------------+----------------------+----------------------+\n",
            "| GPU  Name                 Persistence-M | Bus-Id        Disp.A | Volatile Uncorr. ECC |\n",
            "| Fan  Temp   Perf          Pwr:Usage/Cap |         Memory-Usage | GPU-Util  Compute M. |\n",
            "|                                         |                      |               MIG M. |\n",
            "|=========================================+======================+======================|\n",
            "|   0  Tesla T4                       Off | 00000000:00:04.0 Off |                    0 |\n",
            "| N/A   44C    P8              12W /  70W |      0MiB / 15360MiB |      0%      Default |\n",
            "|                                         |                      |                  N/A |\n",
            "+-----------------------------------------+----------------------+----------------------+\n",
            "                                                                                         \n",
            "+---------------------------------------------------------------------------------------+\n",
            "| Processes:                                                                            |\n",
            "|  GPU   GI   CI        PID   Type   Process name                            GPU Memory |\n",
            "|        ID   ID                                                             Usage      |\n",
            "|=======================================================================================|\n",
            "|  No running processes found                                                           |\n",
            "+---------------------------------------------------------------------------------------+\n"
          ]
        }
      ]
    },
    {
      "cell_type": "code",
      "source": [
        "%pdb"
      ],
      "metadata": {
        "colab": {
          "base_uri": "https://localhost:8080/"
        },
        "id": "E3UXHMoKm_OU",
        "outputId": "e87c7c81-3d33-498e-f50b-58ce741b7501"
      },
      "execution_count": null,
      "outputs": [
        {
          "output_type": "stream",
          "name": "stdout",
          "text": [
            "Automatic pdb calling has been turned ON\n"
          ]
        }
      ]
    },
    {
      "cell_type": "code",
      "source": [
        "'''Import Libraries'''\n",
        "import argparse\n",
        "from argparse import ArgumentParser\n",
        "import glob\n",
        "import cv2\n",
        "import re\n",
        "import random\n",
        "import math\n",
        "import os, glob, datetime\n",
        "import numpy as np\n",
        "import matplotlib.pyplot as plt\n",
        "import tensorflow as tf\n",
        "\n",
        "from keras.layers import  Input,Conv2D,BatchNormalization,Activation,Subtract, Reshape\n",
        "from keras.models import Model, load_model\n",
        "from tensorflow.python.keras.utils import conv_utils\n",
        "from keras.callbacks import CSVLogger, ModelCheckpoint, LearningRateScheduler\n",
        "from tensorflow.keras.optimizers import Adam\n",
        "\n",
        "#import data_generator as dg\n",
        "import keras.backend as K\n",
        "import skimage\n",
        "from skimage.metrics import structural_similarity as ssim\n",
        "from skimage.io import imread, imsave\n"
      ],
      "metadata": {
        "id": "E3o4tEiv7SO9"
      },
      "execution_count": 11,
      "outputs": []
    },
    {
      "cell_type": "code",
      "source": [
        "tf.config.experimental.list_physical_devices('GPU')"
      ],
      "metadata": {
        "colab": {
          "base_uri": "https://localhost:8080/"
        },
        "id": "jyDLSkA8tUkG",
        "outputId": "a2a800fb-dee1-4dd4-8f95-5976199d2fad"
      },
      "execution_count": 12,
      "outputs": [
        {
          "output_type": "execute_result",
          "data": {
            "text/plain": [
              "[PhysicalDevice(name='/physical_device:GPU:0', device_type='GPU')]"
            ]
          },
          "metadata": {},
          "execution_count": 12
        }
      ]
    },
    {
      "cell_type": "code",
      "source": [
        "'''Set Parameters'''\n",
        "## Params\n",
        "parser = argparse.ArgumentParser()\n",
        "parser.add_argument('--model', default='Deep_DeQuIP', type=str, help='choose a type of model')\n",
        "parser.add_argument('--batch_size', default=10, type=int, help='batch size')\n",
        "\n",
        "parser.add_argument('--train_data_clean', default='/content/my_drive/MyDrive/test/train', type=str, help='path of train data clean')\n",
        "parser.add_argument('--train_data_noisy', default='/content/my_drive/MyDrive/test/bmode', type=str, help='path of train data noisy')\n",
        "\n",
        "parser.add_argument('--kernel_size', default=5, type=int, help='Hamiltonian kernel size')\n",
        "parser.add_argument('--patches_size', default=50, type=int, help='patch size')\n",
        "\n",
        "parser.add_argument('--epoch', default=50, type=int, help='number of train epoches')\n",
        "parser.add_argument('--lr', default=1e-3, type=float, help='initial learning rate for Adam')\n",
        "parser.add_argument('--save_every', default=1, type=int, help='save model at every x epoches')\n",
        "parser.add_argument('-f', '--file', required=False)\n",
        "\n",
        "args = parser.parse_args()\n",
        "#args.save_every = args.epoch\n"
      ],
      "metadata": {
        "id": "XCt7QaeG7UYp"
      },
      "execution_count": 13,
      "outputs": []
    },
    {
      "cell_type": "code",
      "source": [
        "'''Set Save Dir for Models'''\n",
        "save_dir = os.path.join('/content/my_drive/MyDrive/test',\n",
        "                        args.model+'_US_image_despeckling'+'_Train700_20_5x5_64')\n",
        "\n",
        "if not os.path.exists(save_dir):\n",
        "  print(save_dir)\n",
        "  os.mkdir(save_dir)\n"
      ],
      "metadata": {
        "id": "NmiWg1vT7Wdb"
      },
      "execution_count": 14,
      "outputs": []
    },
    {
      "cell_type": "code",
      "source": [
        "'''utility functions'''\n",
        "\n",
        "def findLastCheckpoint(save_dir):\n",
        "    file_list = glob.glob(os.path.join(save_dir,'model_*.hdf5'))  # returns names of all .hdf5 files\n",
        "    if file_list:\n",
        "        epochs_exist = []\n",
        "        for file in file_list:\n",
        "            result = re.findall(\".*model_(.*).hdf5.*\",file) # returns epoch number from the model checkpoint file\n",
        "            epochs_exist.append(int(result[0]))\n",
        "        initial_epoch=max(epochs_exist)\n",
        "    else:\n",
        "        initial_epoch = 0\n",
        "    return initial_epoch\n",
        "\n",
        "def log(*args,**kwargs):\n",
        "     print(datetime.datetime.now().strftime(\"%Y-%m-%d %H:%M:%S:\"),*args,**kwargs)\n",
        "\n",
        "def lr_schedule(epoch):\n",
        "    initial_lr = args.lr\n",
        "    if epoch<=20:\n",
        "        lr = initial_lr\n",
        "    elif epoch<=30:\n",
        "        lr = initial_lr/10\n",
        "    elif epoch<=40:\n",
        "        lr = initial_lr/20\n",
        "    else:\n",
        "        lr = initial_lr/20\n",
        "    log('current learning rate is %2.8f' %lr)\n",
        "    return lr\n"
      ],
      "metadata": {
        "id": "Y-FOVh737hir"
      },
      "execution_count": 15,
      "outputs": []
    },
    {
      "cell_type": "code",
      "source": [
        "def train_datagen(epoch_iter=2000, epoch_num=5, batch_size=10, data_dir=args.train_data_noisy):\n",
        "  #Original Batch_size = 128\n",
        "  #Original iter = 2000\n",
        "  n_count = 0 # AneeshFix\n",
        "  while(True):\n",
        "      # n_count = 0 AneeshError\n",
        "      if n_count == 0:\n",
        "          #print(n_count)\n",
        "          #xs, ys = speckled_datagenerator(data_dir)  AneeshError?  # generate clean and noisy data\n",
        "          clean_data, noisy_data = speckled_datagenerator(data_dir) #AneeshFix\n",
        "\n",
        "          assert len(clean_data) % args.batch_size == 0, 'make sure the last iteration has a full batchsize, this is important if you use batch normalization!'\n",
        "\n",
        "          # normalize the pixel values between 0 and 1\n",
        "          clean_data = clean_data.astype('float32')/255.0\n",
        "          noisy_data = noisy_data.astype('float32')/255.0\n",
        "\n",
        "          indices = list(range(clean_data.shape[0]))\n",
        "          n_count = 1\n",
        "\n",
        "      for _ in range(epoch_num):\n",
        "          np.random.shuffle(indices)\n",
        "          for i in range(0, len(indices), batch_size):\n",
        "              clean_batch = clean_data[indices[i:i+batch_size]]\n",
        "              noisy_batch = noisy_data[indices[i:i+batch_size]]\n",
        "\n",
        "             # noise =  np.random.normal(0, args.sigma/255.0, batch_x.shape)\n",
        "\n",
        "              yield noisy_batch, clean_batch"
      ],
      "metadata": {
        "id": "7EQ-hhQT8Xoq"
      },
      "execution_count": 16,
      "outputs": []
    },
    {
      "cell_type": "code",
      "source": [
        "def make_batch(data):\n",
        "  data = np.array(data, dtype='uint8')\n",
        "  data = data.reshape((data.shape[0]*data.shape[1],data.shape[2],data.shape[3],1))\n",
        "  discard_n = len(data)-len(data) // batch_size*batch_size\n",
        "  data = np.delete(data, range(discard_n), axis = 0)\n",
        "  return data"
      ],
      "metadata": {
        "id": "bHKYgBMZrLkd"
      },
      "execution_count": 17,
      "outputs": []
    },
    {
      "cell_type": "code",
      "source": [
        "def speckled_datagenerator(data_dir, verbose=False):\n",
        "\n",
        "    file_list = glob.glob(data_dir+'/*.png')  # returns names of all .png files in B_Mode Dir\n",
        "    #print('file_list', file_list)\n",
        "\n",
        "    data = []\n",
        "    data_clean = []\n",
        "\n",
        "    # generate patches for all images in the directory\n",
        "    for i in range(len(file_list)):\n",
        "        clean_patch, patch = gen_speckled_image_patches(file_list[i])\n",
        "\n",
        "        data.append(patch)\n",
        "        data_clean.append(clean_patch)\n",
        "\n",
        "        if verbose:\n",
        "            print('image :',str(i+1)+'/'+ str(len(file_list)))\n",
        "\n",
        "    # do for speckled data\n",
        "    data = np.array(data, dtype='uint8')\n",
        "    data = data.reshape((data.shape[0]*data.shape[1],data.shape[2],data.shape[3],1))\n",
        "    discard_n = len(data)-len(data)//batch_size*batch_size\n",
        "    data = np.delete(data,range(discard_n),axis = 0)\n",
        "\n",
        "    # do for clean data\n",
        "    data_clean = np.array(data_clean, dtype='uint8')\n",
        "    data_clean = data_clean.reshape((data_clean.shape[0]*data_clean.shape[1],data_clean.shape[2],data_clean.shape[3],1))\n",
        "    discard_n = len(data_clean)-len(data_clean)//batch_size*batch_size\n",
        "    data_clean = np.delete(data_clean,range(discard_n),axis = 0)\n",
        "\n",
        "    print('-----training data finished-----')\n",
        "    print('noisy image shape:',data.shape)\n",
        "    print('clean image shape:',data_clean.shape)\n",
        "\n",
        "    assert data.shape == data_clean.shape\n",
        "\n",
        "\n",
        "    return data_clean, data"
      ],
      "metadata": {
        "id": "yi_PY1bO7vhz"
      },
      "execution_count": 19,
      "outputs": []
    },
    {
      "cell_type": "code",
      "source": [
        "import matplotlib.pyplot as plt\n",
        "def gen_speckled_image_patches(file_name):\n",
        "\n",
        "    last_name = file_name.split('_')[-1] #  Returns Name of the Image\n",
        "    clean_image_file_name = os.path.join(args.train_data_clean, last_name) # clean train image directory\n",
        "\n",
        "    img = cv2.imread(file_name, 0) # noisy image\n",
        "    clean_img = cv2.imread(clean_image_file_name, 0) # clean image\n",
        "\n",
        "    '''show(np.hstack((clean_img,img))) # display the images'''\n",
        "\n",
        "    h, w = img.shape\n",
        "\n",
        "    patches = []\n",
        "    clean_patches = []\n",
        "\n",
        "    for s in scales: # scaling the images\n",
        "        h_scaled, w_scaled = int(h*s),int(w*s)\n",
        "        img_scaled = cv2.resize(img, (h_scaled,w_scaled), interpolation=cv2.INTER_CUBIC)\n",
        "        clean_img_scaled = cv2.resize(clean_img, (h_scaled,w_scaled), interpolation=cv2.INTER_CUBIC)\n",
        "\n",
        "        # extract patches from the images\n",
        "        for i in range(0, h_scaled-patch_size+1, stride):\n",
        "            for j in range(0, w_scaled-patch_size+1, stride):\n",
        "                patch = img_scaled[i:i+patch_size, j:j+patch_size]\n",
        "                clean_patch = clean_img_scaled[i:i+patch_size, j:j+patch_size]\n",
        "\n",
        "                # data augmentation\n",
        "                for k in range(0, aug_times):\n",
        "                  mode_k=np.random.randint(0,8)\n",
        "                  patch_aug = data_augmentation(patch, mode=mode_k)\n",
        "                  clean_patch_aug = data_augmentation(clean_patch, mode=mode_k)\n",
        "                  patches.append(patch_aug)\n",
        "                  clean_patches.append(clean_patch_aug)\n",
        "\n",
        "\n",
        "    return clean_patches, patches"
      ],
      "metadata": {
        "id": "6ktmhpD-8xur"
      },
      "execution_count": 20,
      "outputs": []
    },
    {
      "cell_type": "code",
      "source": [
        "'''Data Augmentation'''\n",
        "def data_augmentation(img, mode=0):\n",
        "    if mode == 0:\n",
        "        return img\n",
        "    elif mode == 1:\n",
        "        return np.flipud(img)\n",
        "    elif mode == 2:\n",
        "        return np.rot90(img)\n",
        "    elif mode == 3:\n",
        "        return np.flipud(np.rot90(img))\n",
        "    elif mode == 4:\n",
        "        return np.rot90(img, k=2)\n",
        "    elif mode == 5:\n",
        "        return np.flipud(np.rot90(img, k=2))\n",
        "    elif mode == 6:\n",
        "        return np.rot90(img, k=3)\n",
        "    elif mode == 7:\n",
        "        return np.flipud(np.rot90(img, k=3))"
      ],
      "metadata": {
        "id": "UAKj62Vp8bXU"
      },
      "execution_count": 21,
      "outputs": []
    },
    {
      "cell_type": "code",
      "source": [
        "'''Show Images'''\n",
        "def show(x,title=None,cbar=False,figsize=None):\n",
        "    plt.figure(figsize=figsize)\n",
        "    plt.imshow(x,interpolation='nearest',cmap='gray')\n",
        "    if title:\n",
        "        plt.title(title)\n",
        "    if cbar:\n",
        "        plt.colorbar()\n",
        "    plt.show()"
      ],
      "metadata": {
        "id": "KHhB2Ggv70Fd"
      },
      "execution_count": 22,
      "outputs": []
    },
    {
      "cell_type": "code",
      "source": [
        "'''Loss Function'''\n",
        "def sum_squared_error(y_true, y_pred):\n",
        "    #return K.mean(K.square(y_pred - y_true), axis=-1)\n",
        "    #return K.sum(K.square(y_pred - y_true), axis=-1)/2\n",
        "    return K.sum(K.square(y_pred - y_true))/2"
      ],
      "metadata": {
        "id": "uCsHTWNK78rr"
      },
      "execution_count": 23,
      "outputs": []
    },
    {
      "cell_type": "code",
      "source": [
        "'''DIVA2D Model'''\n",
        "def DIVA2D(depth,filters=64,image_channels=1, kernel_size=5, use_bnorm=True):\n",
        "    layer_count = 0\n",
        "    inpt = Input(shape=(None,None,image_channels),name = 'input'+str(layer_count))\n",
        "\n",
        "    # Get the initial patches /initial_patches\n",
        "    initial_patches = Conv2D(filters=filters, kernel_size=(kernel_size,kernel_size), strides=(1,1),kernel_initializer='Orthogonal', padding='same',name = 'initial_patches')(inpt)\n",
        "    initial_patches = Activation('relu',name = 'initial_patch_acti')(initial_patches)\n",
        "    #print(initial_patches.get_shape())\n",
        "\n",
        "    # interaction layer\n",
        "    inter = Conv2D(filters=filters, kernel_size=(kernel_size,kernel_size), strides=(1,1),kernel_initializer='Orthogonal', padding='same',name = 'interactions')(initial_patches)\n",
        "    inter = Activation('relu',name = 'interaction_acti'+str(layer_count))(inter)\n",
        "    #print(inter.get_shape())\n",
        "\n",
        "\n",
        "    # Get contributions of the original potential in the Hamiltonian kernel\n",
        "    ori_poten_kernel = tf.keras.layers.MaxPooling2D (pool_size=(21,21), strides=(15,15), padding='same', name = 'ori_poten_ker', data_format=None )(initial_patches)\n",
        "    #print('ori_poten_kernel',ori_poten_kernel.get_shape())\n",
        "\n",
        "    # Get contributions of the interactions in the Hamiltonian kernel\n",
        "    inter_kernel = tf.keras.layers.MaxPooling2D (pool_size=(21,21), strides=(15,15), padding='same', name = 'inter_ker', data_format=None )(inter)\n",
        "    #print('inter_kernel',inter_kernel.get_shape())\n",
        "\n",
        "\n",
        "    # Get projection coefficients of the initial patches on the Hamiltonian kernel\n",
        "    x = Hamiltonian_Conv2D(filters=filters, kernel_size=(kernel_size,kernel_size), kernel_3 = ori_poten_kernel, kernel_4 = inter_kernel, strides=(1,1), activation='relu',\n",
        "                              kernel_initializer='Orthogonal', padding='same', name = 'proj_coef')(initial_patches)\n",
        "\n",
        "    #print('coef',x.get_shape())\n",
        "\n",
        "\n",
        "    # Do Thresholding (depth depends on the noise intensity)\n",
        "    for i in range(depth):\n",
        "      layer_count += 1\n",
        "      x = Conv2D(filters=filters, kernel_size=(kernel_size,kernel_size), strides=(1,1),kernel_initializer='Orthogonal', padding='same',use_bias = False,name = 'conv'+str(layer_count))(x)\n",
        "\n",
        "      layer_count += 1\n",
        "      x = BatchNormalization(axis=3, momentum=0.1,epsilon=0.0001, name = 'bn'+str(layer_count))(x)\n",
        "        #x = BatchNormalization(axis=3, momentum=0.0,epsilon=0.0001, name = 'bn'+str(layer_count))(x)\n",
        "\n",
        "      # Thresholding\n",
        "      x = Activation('relu',name = 'Thresholding'+str(layer_count))(x)\n",
        "\n",
        "    # Inverse projection\n",
        "    x = Conv2D(filters=image_channels, kernel_size=(kernel_size,kernel_size), strides=(1,1), kernel_initializer='Orthogonal',padding='same',use_bias = False,name = 'inv_trans')(x)\n",
        "\n",
        "\n",
        "    # Deconvolution layer\n",
        "    layer_count += 1\n",
        "    x = Conv2D(filters=filters, kernel_size=(args.kernel_size,args.kernel_size), strides=(1,1), kernel_initializer='Orthogonal',padding='same',use_bias = False,name = 'deconv'+str(layer_count))(x)\n",
        "    layer_count += 1\n",
        "    x = Conv2D(filters=filters, kernel_size=(args.kernel_size,args.kernel_size), strides=(1,1), kernel_initializer='Orthogonal',padding='same',use_bias = False,name = 'deconv'+str(layer_count))(x)\n",
        "    layer_count += 1\n",
        "    x = Conv2D(filters=image_channels, kernel_size=(args.kernel_size,args.kernel_size), strides=(1,1), kernel_initializer='Orthogonal',padding='same',use_bias = False,name = 'deconv'+str(layer_count))(x)\n",
        "    layer_count += 1\n",
        "\n",
        "\n",
        "    x = Subtract(name = 'subtract')([inpt, x])   # input - noise\n",
        "\n",
        "    model = Model(inputs=inpt, outputs=x)\n",
        "\n",
        "    return model"
      ],
      "metadata": {
        "id": "TJOxFp6R76eh"
      },
      "execution_count": 24,
      "outputs": []
    },
    {
      "cell_type": "code",
      "execution_count": 25,
      "metadata": {
        "id": "89Ajlpp5ueWM"
      },
      "outputs": [],
      "source": [
        " '''Hamiltonian convolution layer'''\n",
        "class Hamiltonian_Conv2D(Conv2D):\n",
        "\n",
        "    def __init__(self, filters, kernel_size, kernel_3=None, kernel_4=None, activation=None, **kwargs):\n",
        "\n",
        "        self.rank = 2               # Dimension of the kernel\n",
        "        self.num_filters = filters  # Number of filter in the convolution layer\n",
        "        self.kernel_size = conv_utils.normalize_tuple(kernel_size, self.rank, 'kernel_size')\n",
        "        self.kernel_3 = kernel_3    # Weights from original potential\n",
        "        self.kernel_4 = kernel_4    # Weights from interaction\n",
        "\n",
        "        super(Hamiltonian_Conv2D, self).__init__(self.num_filters, self.kernel_size,\n",
        "              activation=activation, use_bias=False, **kwargs)\n",
        "\n",
        "    def build(self, input_shape):\n",
        "        if K.image_data_format() == 'channels_first':\n",
        "            channel_axis = 1\n",
        "        else:\n",
        "            channel_axis = -1\n",
        "        if input_shape[channel_axis] is None:\n",
        "            raise ValueError('The channel dimension of the inputs '\n",
        "                     'should be defined. Found `None`.')\n",
        "\n",
        "        #don't use bias:\n",
        "        self.bias = None\n",
        "\n",
        "        #consider the layer built\n",
        "        self.built = True\n",
        "\n",
        "\n",
        "        # Define nabla operator\n",
        "        weights_1 = tf.constant([[ 2.,-1., 0.],\n",
        "                                 [-1., 4.,-1.],\n",
        "                                 [ 0.,-1., 2.]])\n",
        "\n",
        "\n",
        "        weights_1 = tf.reshape(weights_1 , [3,3, 1])\n",
        "        weights_1 = tf.repeat(weights_1 , repeats=self.num_filters, axis=2)\n",
        "        #print('kernel shape of weights_1:',weights_1.get_shape())\n",
        "\n",
        "        # Define Weights for h^2/2m  (size should be same as the nabla operator)\n",
        "        weights_2 = self.add_weight(shape=weights_1.get_shape(),\n",
        "                                      initializer= 'Orthogonal',\n",
        "                                      name='kernel_h^2/2m',\n",
        "                                      regularizer=self.kernel_regularizer,\n",
        "                                      constraint=self.kernel_constraint)\n",
        "        #print('kernel shape of weights_2:',weights_2.get_shape())\n",
        "\n",
        "\n",
        "        # Define the Hamiltonian kernel\n",
        "        self.kernel = weights_1*weights_2 + self.kernel_3 + self.kernel_4\n",
        "        #print('self.kernel',self.kernel.get_shape())\n",
        "\n",
        "        self.built = True\n",
        "        super(Hamiltonian_Conv2D, self).build(input_shape)\n",
        "\n",
        "    # Do the 2D convolution using the Hamiltonian kernel\n",
        "    def convolution_op(self, inputs, kernel):\n",
        "        if self.padding == \"causal\":\n",
        "            tf_padding = \"VALID\"  # Causal padding handled in `call`.\n",
        "        elif isinstance(self.padding, str):\n",
        "            tf_padding = self.padding.upper()\n",
        "        else:\n",
        "            tf_padding = self.padding\n",
        "\n",
        "\n",
        "        return tf.nn.convolution(\n",
        "            inputs,\n",
        "            kernel,\n",
        "            strides=list(self.strides),\n",
        "            padding=tf_padding,\n",
        "            dilations=list(self.dilation_rate),\n",
        "            name=self.__class__.__name__,\n",
        "        )\n",
        "\n",
        "    def call(self, inputs):\n",
        "        outputs = self.convolution_op(inputs, self.kernel)\n",
        "        return outputs\n"
      ]
    },
    {
      "cell_type": "code",
      "source": [
        "'''Hyperparameters'''\n",
        "patch_size, stride = 50, 10\n",
        "aug_times = 1\n",
        "scales = [1] # [1, 0.9, 0.8, 0.7]\n",
        "batch_size = 10"
      ],
      "metadata": {
        "id": "P5k_OuLm7o6H"
      },
      "execution_count": 26,
      "outputs": []
    },
    {
      "cell_type": "code",
      "source": [
        "if __name__ == '__main__':\n",
        "    # model selection\n",
        "    model = DIVA2D(depth=15,filters=96,image_channels=1,use_bnorm=True)\n",
        "    #model.summary()\n",
        "\n",
        "    # load the last model in matconvnet style\n",
        "    initial_epoch = findLastCheckpoint(save_dir=save_dir)\n",
        "    if initial_epoch > 0:\n",
        "        print('resuming by loading epoch %03d'%initial_epoch)\n",
        "        model = load_model(os.path.join(save_dir,'model_%03d.hdf5'%initial_epoch), compile=False)\n",
        "\n",
        "    # compile the model\n",
        "    model.compile(optimizer=Adam(0.001), loss= tf.keras.losses.MeanSquaredError(), #tf.keras.losses.CosineSimilarity (axis=-1, reduction=\"auto\", name=\"cosine_similarity\"),\n",
        "                  metrics=[tf.keras.metrics.MeanSquaredError(),\n",
        "                           tf.keras.metrics.RootMeanSquaredError(),\n",
        "                           tf.keras.metrics.MeanSquaredLogarithmicError(),\n",
        "                           tf.keras.metrics.MeanAbsoluteError(),\n",
        "                           sum_squared_error])\n",
        "\n",
        "    # tf.keras.metrics.MeanAbsolutePercentageError(), tf.keras.metrics.CosineSimilarity(name=\"cosine_similarity\", dtype=None, axis=-1),\n",
        "    # tf.keras.metrics.LogCoshError(),\n",
        "\n",
        "    # use call back functions\n",
        "    checkpointer = ModelCheckpoint(os.path.join(save_dir,'model_{epoch:03d}.hdf5'),\n",
        "                verbose=1, save_weights_only=False, period=1)\n",
        "    csv_logger = CSVLogger(os.path.join(save_dir,'log.csv'), append=True, separator=',')\n",
        "    lr_scheduler = LearningRateScheduler(lr_schedule)\n",
        "\n",
        "    print('batch_size = ',args.batch_size)\n",
        "    history = model.fit(train_datagen(batch_size=args.batch_size),\n",
        "                steps_per_epoch=1500, epochs=10, verbose=1, initial_epoch=initial_epoch,\n",
        "                callbacks=[checkpointer,csv_logger,lr_scheduler])\n",
        "    #steps_per_epoch = 7000, epochs = 50"
      ],
      "metadata": {
        "colab": {
          "base_uri": "https://localhost:8080/"
        },
        "id": "LxqNGvHd7-zY",
        "outputId": "4629130d-d0db-460c-c02d-da8827dca22b"
      },
      "execution_count": 28,
      "outputs": [
        {
          "output_type": "stream",
          "name": "stderr",
          "text": [
            "WARNING:tensorflow:`period` argument is deprecated. Please use `save_freq` to specify the frequency in number of batches seen.\n"
          ]
        },
        {
          "output_type": "stream",
          "name": "stdout",
          "text": [
            "batch_size =  10\n",
            "-----training data finished-----\n",
            "noisy image shape: (13690, 50, 50, 1)\n",
            "clean image shape: (13690, 50, 50, 1)\n",
            "2024-03-22 09:56:05: current learning rate is 0.00100000\n",
            "Epoch 1/10\n"
          ]
        },
        {
          "output_type": "stream",
          "name": "stderr",
          "text": [
            "WARNING:tensorflow:Gradients do not exist for variables ['proj_coef/kernel_h^2/2m:0'] when minimizing the loss. If you're using `model.compile()`, did you forget to provide a `loss` argument?\n",
            "WARNING:tensorflow:Gradients do not exist for variables ['proj_coef/kernel_h^2/2m:0'] when minimizing the loss. If you're using `model.compile()`, did you forget to provide a `loss` argument?\n",
            "WARNING:tensorflow:Gradients do not exist for variables ['proj_coef/kernel_h^2/2m:0'] when minimizing the loss. If you're using `model.compile()`, did you forget to provide a `loss` argument?\n",
            "WARNING:tensorflow:Gradients do not exist for variables ['proj_coef/kernel_h^2/2m:0'] when minimizing the loss. If you're using `model.compile()`, did you forget to provide a `loss` argument?\n"
          ]
        },
        {
          "output_type": "stream",
          "name": "stdout",
          "text": [
            "1500/1500 [==============================] - ETA: 0s - loss: 0.0685 - mean_squared_error: 0.0685 - root_mean_squared_error: 0.2616 - mean_squared_logarithmic_error: 0.0158 - mean_absolute_error: 0.1243 - sum_squared_error: 855.6797\n",
            "Epoch 1: saving model to /content/my_drive/MyDrive/test/Deep_DeQuIP_US_image_despeckling_Train700_20_5x5_64/model_001.hdf5\n"
          ]
        },
        {
          "output_type": "stream",
          "name": "stderr",
          "text": [
            "/usr/local/lib/python3.10/dist-packages/keras/src/engine/training.py:3103: UserWarning: You are saving your model as an HDF5 file via `model.save()`. This file format is considered legacy. We recommend using instead the native Keras format, e.g. `model.save('my_model.keras')`.\n",
            "  saving_api.save_model(\n"
          ]
        },
        {
          "output_type": "stream",
          "name": "stdout",
          "text": [
            "\b\b\b\b\b\b\b\b\b\b\b\b\b\b\b\b\b\b\b\b\b\b\b\b\b\b\b\b\b\b\b\b\b\b\b\b\b\b\b\b\b\b\b\b\b\b\b\b\b\b\b\b\b\b\b\b\b\b\b\b\b\b\b\b\b\b\b\b\b\b\b\b\b\b\b\b\b\b\b\b\b\b\b\b\b\b\b\b\b\b\b\b\b\b\b\b\b\b\b\b\b\b\b\b\b\b\b\b\b\b\b\b\b\b\b\b\b\b\b\b\b\b\b\b\b\b\b\b\b\b\b\b\b\b\b\b\b\b\b\b\b\b\b\b\b\b\b\b\b\b\b\b\b\b\b\b\b\b\b\b\b\b\b\b\b\b\b\b\b\b\b\b\b\b\b\b\b\b\b\b\b\b\b\b\b\b\b\b\b\b\b\b\b\b\b\b\b\b\b\b\b\b\b\b\b\b\b\b\b\b\b\b\b\b\b\b\b\b\b\b\b\b\b\b\b\b\b\b\b\b\b\r1500/1500 [==============================] - 190s 117ms/step - loss: 0.0685 - mean_squared_error: 0.0685 - root_mean_squared_error: 0.2616 - mean_squared_logarithmic_error: 0.0158 - mean_absolute_error: 0.1243 - sum_squared_error: 855.6797 - lr: 0.0010\n",
            "2024-03-22 09:59:14: current learning rate is 0.00100000\n",
            "Epoch 2/10\n",
            "1500/1500 [==============================] - ETA: 0s - loss: 0.0198 - mean_squared_error: 0.0198 - root_mean_squared_error: 0.1406 - mean_squared_logarithmic_error: 0.0111 - mean_absolute_error: 0.1101 - sum_squared_error: 247.2039\n",
            "Epoch 2: saving model to /content/my_drive/MyDrive/test/Deep_DeQuIP_US_image_despeckling_Train700_20_5x5_64/model_002.hdf5\n",
            "1500/1500 [==============================] - 177s 118ms/step - loss: 0.0198 - mean_squared_error: 0.0198 - root_mean_squared_error: 0.1406 - mean_squared_logarithmic_error: 0.0111 - mean_absolute_error: 0.1101 - sum_squared_error: 247.2039 - lr: 0.0010\n",
            "2024-03-22 10:02:11: current learning rate is 0.00100000\n",
            "Epoch 3/10\n",
            "1500/1500 [==============================] - ETA: 0s - loss: 0.0192 - mean_squared_error: 0.0192 - root_mean_squared_error: 0.1386 - mean_squared_logarithmic_error: 0.0108 - mean_absolute_error: 0.1084 - sum_squared_error: 240.2148\n",
            "Epoch 3: saving model to /content/my_drive/MyDrive/test/Deep_DeQuIP_US_image_despeckling_Train700_20_5x5_64/model_003.hdf5\n",
            "1500/1500 [==============================] - 177s 118ms/step - loss: 0.0192 - mean_squared_error: 0.0192 - root_mean_squared_error: 0.1386 - mean_squared_logarithmic_error: 0.0108 - mean_absolute_error: 0.1084 - sum_squared_error: 240.2148 - lr: 0.0010\n",
            "2024-03-22 10:05:08: current learning rate is 0.00100000\n",
            "Epoch 4/10\n",
            "1500/1500 [==============================] - ETA: 0s - loss: 0.0171 - mean_squared_error: 0.0171 - root_mean_squared_error: 0.1308 - mean_squared_logarithmic_error: 0.0097 - mean_absolute_error: 0.1011 - sum_squared_error: 213.8407\n",
            "Epoch 4: saving model to /content/my_drive/MyDrive/test/Deep_DeQuIP_US_image_despeckling_Train700_20_5x5_64/model_004.hdf5\n",
            "1500/1500 [==============================] - 177s 118ms/step - loss: 0.0171 - mean_squared_error: 0.0171 - root_mean_squared_error: 0.1308 - mean_squared_logarithmic_error: 0.0097 - mean_absolute_error: 0.1011 - sum_squared_error: 213.8407 - lr: 0.0010\n",
            "2024-03-22 10:08:05: current learning rate is 0.00100000\n",
            "Epoch 5/10\n",
            "1500/1500 [==============================] - ETA: 0s - loss: 0.0125 - mean_squared_error: 0.0125 - root_mean_squared_error: 0.1119 - mean_squared_logarithmic_error: 0.0073 - mean_absolute_error: 0.0843 - sum_squared_error: 156.6413\n",
            "Epoch 5: saving model to /content/my_drive/MyDrive/test/Deep_DeQuIP_US_image_despeckling_Train700_20_5x5_64/model_005.hdf5\n",
            "1500/1500 [==============================] - 177s 118ms/step - loss: 0.0125 - mean_squared_error: 0.0125 - root_mean_squared_error: 0.1119 - mean_squared_logarithmic_error: 0.0073 - mean_absolute_error: 0.0843 - sum_squared_error: 156.6413 - lr: 0.0010\n",
            "2024-03-22 10:11:01: current learning rate is 0.00100000\n",
            "Epoch 6/10\n",
            "1500/1500 [==============================] - ETA: 0s - loss: 0.0097 - mean_squared_error: 0.0097 - root_mean_squared_error: 0.0985 - mean_squared_logarithmic_error: 0.0057 - mean_absolute_error: 0.0724 - sum_squared_error: 121.4007\n",
            "Epoch 6: saving model to /content/my_drive/MyDrive/test/Deep_DeQuIP_US_image_despeckling_Train700_20_5x5_64/model_006.hdf5\n",
            "1500/1500 [==============================] - 177s 118ms/step - loss: 0.0097 - mean_squared_error: 0.0097 - root_mean_squared_error: 0.0985 - mean_squared_logarithmic_error: 0.0057 - mean_absolute_error: 0.0724 - sum_squared_error: 121.4007 - lr: 0.0010\n",
            "2024-03-22 10:13:59: current learning rate is 0.00100000\n",
            "Epoch 7/10\n",
            "1500/1500 [==============================] - ETA: 0s - loss: 0.0094 - mean_squared_error: 0.0094 - root_mean_squared_error: 0.0969 - mean_squared_logarithmic_error: 0.0055 - mean_absolute_error: 0.0711 - sum_squared_error: 117.3763\n",
            "Epoch 7: saving model to /content/my_drive/MyDrive/test/Deep_DeQuIP_US_image_despeckling_Train700_20_5x5_64/model_007.hdf5\n",
            "1500/1500 [==============================] - 177s 118ms/step - loss: 0.0094 - mean_squared_error: 0.0094 - root_mean_squared_error: 0.0969 - mean_squared_logarithmic_error: 0.0055 - mean_absolute_error: 0.0711 - sum_squared_error: 117.3763 - lr: 0.0010\n",
            "2024-03-22 10:16:56: current learning rate is 0.00100000\n",
            "Epoch 8/10\n",
            "1500/1500 [==============================] - ETA: 0s - loss: 0.0089 - mean_squared_error: 0.0089 - root_mean_squared_error: 0.0943 - mean_squared_logarithmic_error: 0.0053 - mean_absolute_error: 0.0688 - sum_squared_error: 111.1627\n",
            "Epoch 8: saving model to /content/my_drive/MyDrive/test/Deep_DeQuIP_US_image_despeckling_Train700_20_5x5_64/model_008.hdf5\n",
            "1500/1500 [==============================] - 178s 118ms/step - loss: 0.0089 - mean_squared_error: 0.0089 - root_mean_squared_error: 0.0943 - mean_squared_logarithmic_error: 0.0053 - mean_absolute_error: 0.0688 - sum_squared_error: 111.1627 - lr: 0.0010\n",
            "2024-03-22 10:19:54: current learning rate is 0.00100000\n",
            "Epoch 9/10\n",
            "1500/1500 [==============================] - ETA: 0s - loss: 0.1095 - mean_squared_error: 0.1095 - root_mean_squared_error: 0.3308 - mean_squared_logarithmic_error: 0.0162 - mean_absolute_error: 0.1307 - sum_squared_error: 1368.1809\n",
            "Epoch 9: saving model to /content/my_drive/MyDrive/test/Deep_DeQuIP_US_image_despeckling_Train700_20_5x5_64/model_009.hdf5\n",
            "1500/1500 [==============================] - 176s 117ms/step - loss: 0.1095 - mean_squared_error: 0.1095 - root_mean_squared_error: 0.3308 - mean_squared_logarithmic_error: 0.0162 - mean_absolute_error: 0.1307 - sum_squared_error: 1368.1809 - lr: 0.0010\n",
            "2024-03-22 10:22:49: current learning rate is 0.00100000\n",
            "Epoch 10/10\n",
            "1500/1500 [==============================] - ETA: 0s - loss: 0.0204 - mean_squared_error: 0.0204 - root_mean_squared_error: 0.1429 - mean_squared_logarithmic_error: 0.0116 - mean_absolute_error: 0.1127 - sum_squared_error: 255.2379\n",
            "Epoch 10: saving model to /content/my_drive/MyDrive/test/Deep_DeQuIP_US_image_despeckling_Train700_20_5x5_64/model_010.hdf5\n",
            "1500/1500 [==============================] - 176s 117ms/step - loss: 0.0204 - mean_squared_error: 0.0204 - root_mean_squared_error: 0.1429 - mean_squared_logarithmic_error: 0.0116 - mean_absolute_error: 0.1127 - sum_squared_error: 255.2379 - lr: 0.0010\n"
          ]
        }
      ]
    },
    {
      "cell_type": "code",
      "source": [
        "'''saves the history of the model as a binary file'''\n",
        "import pickle\n",
        "\n",
        "# Save history to a file\n",
        "with open('/content/my_drive/MyDrive/test/Deep_DeQuIP_US_image_despeckling_Train700_20_5x5_64/training_history.pkl', 'wb') as file:\n",
        "    pickle.dump(history.history, file)"
      ],
      "metadata": {
        "id": "h3AhxsrTlJXL"
      },
      "execution_count": 29,
      "outputs": []
    },
    {
      "cell_type": "code",
      "source": [
        "# list all data in history\n",
        "print(history.history.keys())\n",
        "# summarize history for loss\n",
        "#plt.plot((history.history['loss']))\n",
        "plt.plot((history.history['mean_squared_error']))\n",
        "plt.title('model loss')\n",
        "plt.ylabel('loss')\n",
        "plt.xlabel('epoch')\n",
        "plt.legend(['train', 'test'], loc='upper right')\n",
        "plt.show()"
      ],
      "metadata": {
        "id": "L38p0S5rwJy_",
        "colab": {
          "base_uri": "https://localhost:8080/",
          "height": 509
        },
        "outputId": "0999e0da-4d78-4aec-b58f-f5b92dc40e90"
      },
      "execution_count": 32,
      "outputs": [
        {
          "output_type": "stream",
          "name": "stdout",
          "text": [
            "dict_keys(['loss', 'mean_squared_error', 'root_mean_squared_error', 'mean_squared_logarithmic_error', 'mean_absolute_error', 'sum_squared_error', 'lr'])\n"
          ]
        },
        {
          "output_type": "display_data",
          "data": {
            "text/plain": [
              "<Figure size 640x480 with 1 Axes>"
            ],
            "image/png": "[encoded data removed]"
          },
          "metadata": {}
        }
      ]
    }
  ]
}